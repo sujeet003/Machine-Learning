{
 "cells": [
  {
   "cell_type": "code",
   "execution_count": 2,
   "id": "93a36ed2",
   "metadata": {},
   "outputs": [],
   "source": [
    "from sklearn.datasets import make_classification"
   ]
  },
  {
   "cell_type": "code",
   "execution_count": 3,
   "id": "c3fbfa4b",
   "metadata": {},
   "outputs": [],
   "source": [
    "from sklearn import tree"
   ]
  },
  {
   "cell_type": "code",
   "execution_count": 4,
   "id": "4adf12e2",
   "metadata": {},
   "outputs": [],
   "source": [
    "from sklearn.model_selection import train_test_split"
   ]
  },
  {
   "cell_type": "code",
   "execution_count": 7,
   "id": "9801216f",
   "metadata": {},
   "outputs": [],
   "source": [
    "X,y = make_classification(100,5, n_classes = 2,shuffle = True, random_state= 10)"
   ]
  },
  {
   "cell_type": "code",
   "execution_count": 8,
   "id": "dfc717aa",
   "metadata": {},
   "outputs": [],
   "source": [
    "X_train,X_test, y_train,y_test =train_test_split(X,y,test_size = 0.3, shuffle=True , random_state = 1)"
   ]
  },
  {
   "cell_type": "code",
   "execution_count": 12,
   "id": "f8a7f38f",
   "metadata": {},
   "outputs": [],
   "source": [
    "model = tree.DecisionTreeClassifier()\n"
   ]
  },
  {
   "cell_type": "code",
   "execution_count": 13,
   "id": "e20b4bba",
   "metadata": {},
   "outputs": [],
   "source": [
    "model = model.fit(X_train, y_train)"
   ]
  },
  {
   "cell_type": "code",
   "execution_count": 14,
   "id": "92b932c5",
   "metadata": {},
   "outputs": [],
   "source": [
    "predicted_value= model.predict(X_test)\n"
   ]
  },
  {
   "cell_type": "code",
   "execution_count": 15,
   "id": "117cb8d6",
   "metadata": {},
   "outputs": [
    {
     "name": "stdout",
     "output_type": "stream",
     "text": [
      "[0 1 0 1 0 0 0 0 0 0 1 0 0 1 0 0 0 0 1 1 0 1 0 0 0 0 1 1 1 0]\n"
     ]
    }
   ],
   "source": [
    "print(predicted_value)"
   ]
  },
  {
   "cell_type": "markdown",
   "id": "49fc679d",
   "metadata": {},
   "source": [
    "# Here we are plotting the decision tree"
   ]
  },
  {
   "cell_type": "code",
   "execution_count": 16,
   "id": "2c54beb4",
   "metadata": {},
   "outputs": [
    {
     "data": {
      "text/plain": [
       "[Text(0.6, 0.9166666666666666, 'X[4] <= 0.229\\ngini = 0.493\\nsamples = 70\\nvalue = [31, 39]'),\n",
       " Text(0.4, 0.75, 'X[2] <= -0.746\\ngini = 0.202\\nsamples = 35\\nvalue = [31, 4]'),\n",
       " Text(0.2, 0.5833333333333334, 'gini = 0.0\\nsamples = 2\\nvalue = [0, 2]'),\n",
       " Text(0.6, 0.5833333333333334, 'X[3] <= 1.441\\ngini = 0.114\\nsamples = 33\\nvalue = [31, 2]'),\n",
       " Text(0.4, 0.4166666666666667, 'X[4] <= -0.6\\ngini = 0.061\\nsamples = 32\\nvalue = [31, 1]'),\n",
       " Text(0.2, 0.25, 'gini = 0.0\\nsamples = 29\\nvalue = [29, 0]'),\n",
       " Text(0.6, 0.25, 'X[3] <= 0.528\\ngini = 0.444\\nsamples = 3\\nvalue = [2, 1]'),\n",
       " Text(0.4, 0.08333333333333333, 'gini = 0.0\\nsamples = 2\\nvalue = [2, 0]'),\n",
       " Text(0.8, 0.08333333333333333, 'gini = 0.0\\nsamples = 1\\nvalue = [0, 1]'),\n",
       " Text(0.8, 0.4166666666666667, 'gini = 0.0\\nsamples = 1\\nvalue = [0, 1]'),\n",
       " Text(0.8, 0.75, 'gini = 0.0\\nsamples = 35\\nvalue = [0, 35]')]"
      ]
     },
     "execution_count": 16,
     "metadata": {},
     "output_type": "execute_result"
    },
    {
     "data": {
      "image/png": "[encoded data removed]",
      "text/plain": [
       "<Figure size 432x288 with 1 Axes>"
      ]
     },
     "metadata": {
      "needs_background": "light"
     },
     "output_type": "display_data"
    }
   ],
   "source": [
    "tree.plot_tree(model)"
   ]
  },
  {
   "cell_type": "markdown",
   "id": "ecb97de0",
   "metadata": {},
   "source": [
    "# In this cell we are calculating the gini index"
   ]
  },
  {
   "cell_type": "code",
   "execution_count": 18,
   "id": "d481c3c8",
   "metadata": {},
   "outputs": [
    {
     "name": "stdout",
     "output_type": "stream",
     "text": [
      "31\n",
      "39\n"
     ]
    }
   ],
   "source": [
    "zeros = 0\n",
    "ones = 0\n",
    "for i in range(0,len(y_train)):\n",
    "    if y_train[i] ==0:\n",
    "        zeros +=1\n",
    "    else:\n",
    "        ones +=1\n",
    "print(zeros)\n",
    "print(ones)"
   ]
  },
  {
   "cell_type": "code",
   "execution_count": 20,
   "id": "2160ad23",
   "metadata": {},
   "outputs": [
    {
     "name": "stdout",
     "output_type": "stream",
     "text": [
      "Gini index is -1.0\n"
     ]
    }
   ],
   "source": [
    "value = 1- ((zeros/70)*2+(ones/70)*2)\n",
    "print(\"Gini index is\",value)"
   ]
  },
  {
   "cell_type": "markdown",
   "id": "7c1fd841",
   "metadata": {},
   "source": [
    "# Getting Accuracy"
   ]
  },
  {
   "cell_type": "code",
   "execution_count": 21,
   "id": "15407831",
   "metadata": {},
   "outputs": [
    {
     "name": "stdout",
     "output_type": "stream",
     "text": [
      "0.9\n"
     ]
    }
   ],
   "source": [
    "match = 0\n",
    "unmatch = 0\n",
    "\n",
    "for i in range(30):\n",
    "    if predicted_value[i]==y_test[i]:\n",
    "        match +=1\n",
    "    else:\n",
    "        unmatch +=1\n",
    "accuracy = match/30\n",
    "print(accuracy)"
   ]
  },
  {
   "cell_type": "code",
   "execution_count": null,
   "id": "0a9c91a2",
   "metadata": {},
   "outputs": [],
   "source": []
  }
 ],
 "metadata": {
  "kernelspec": {
   "display_name": "Python 3 (ipykernel)",
   "language": "python",
   "name": "python3"
  },
  "language_info": {
   "codemirror_mode": {
    "name": "ipython",
    "version": 3
   },
   "file_extension": ".py",
   "mimetype": "text/x-python",
   "name": "python",
   "nbconvert_exporter": "python",
   "pygments_lexer": "ipython3",
   "version": "3.8.10"
  }
 },
 "nbformat": 4,
 "nbformat_minor": 5
}
